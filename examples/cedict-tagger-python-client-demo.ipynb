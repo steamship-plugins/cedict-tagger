{
 "cells": [
  {
   "cell_type": "code",
   "execution_count": null,
   "id": "d4b8e02e",
   "metadata": {},
   "outputs": [],
   "source": [
    "%pip install steamship==2.2.0b2"
   ]
  },
  {
   "cell_type": "markdown",
   "id": "2ca1d0c8",
   "metadata": {},
   "source": [
    "# Demo: cedict-tagger\n",
    "## Tokenize and translate Chinese\n",
    "\n",
    "This notebook demonstrates how to create and use the `cedict-tagger` plugin.\n",
    "\n",
    "Instances of the package will be created in such a way that each instance will have its own workspace where data is stored. Workspaces can be used to create personal data vaults for clients as they are isolated from each other."
   ]
  },
  {
   "cell_type": "code",
   "execution_count": null,
   "id": "aef22a77",
   "metadata": {},
   "outputs": [],
   "source": [
    "from steamship import Steamship, File"
   ]
  },
  {
   "cell_type": "code",
   "execution_count": null,
   "id": "d9d097d4",
   "metadata": {},
   "outputs": [],
   "source": [
    "workspace = Steamship(workspace=\"ce-dict-demo\", profile=\"staging\")"
   ]
  },
  {
   "cell_type": "code",
   "execution_count": null,
   "id": "f0a8016a",
   "metadata": {},
   "outputs": [],
   "source": [
    "text = \"美国中期选举很重要。选民投票选举的范围包括众议院的所有席位、参议院的三分之一席位，以及数以千计的州的立法机构和行政领导职位。\""
   ]
  },
  {
   "cell_type": "code",
   "execution_count": null,
   "id": "5f1b2d7d",
   "metadata": {
    "pycharm": {
     "name": "#%%\n"
    }
   },
   "outputs": [],
   "source": [
    "file = File.create(workspace, content=text)"
   ]
  },
  {
   "cell_type": "code",
   "execution_count": null,
   "id": "bd869a9b",
   "metadata": {
    "pycharm": {
     "name": "#%%\n"
    }
   },
   "outputs": [],
   "source": [
    "blockifier = workspace.use_plugin(\"markdown-blockifier-default\", \"markdown\")"
   ]
  },
  {
   "cell_type": "code",
   "execution_count": null,
   "id": "c746a9b1",
   "metadata": {
    "pycharm": {
     "name": "#%%\n"
    }
   },
   "outputs": [],
   "source": [
    "task = file.blockify(\"markdown-blockifier-default-1.0\")"
   ]
  },
  {
   "cell_type": "code",
   "execution_count": null,
   "id": "edefa757",
   "metadata": {
    "pycharm": {
     "name": "#%%\n"
    }
   },
   "outputs": [],
   "source": [
    "task.wait()"
   ]
  },
  {
   "cell_type": "code",
   "execution_count": null,
   "id": "cbf41b70",
   "metadata": {
    "pycharm": {
     "name": "#%%\n"
    }
   },
   "outputs": [],
   "source": [
    "tagger = workspace.use_plugin(\"cedict-tagger\", \"cedict-tagger\")"
   ]
  },
  {
   "cell_type": "code",
   "execution_count": null,
   "id": "b69d894c",
   "metadata": {
    "pycharm": {
     "name": "#%%\n"
    }
   },
   "outputs": [],
   "source": [
    "task = file.tag(tagger.handle)"
   ]
  },
  {
   "cell_type": "code",
   "execution_count": null,
   "id": "0308602e",
   "metadata": {
    "pycharm": {
     "name": "#%%\n"
    }
   },
   "outputs": [],
   "source": [
    "task.wait()"
   ]
  },
  {
   "cell_type": "code",
   "execution_count": null,
   "id": "eb7d6954",
   "metadata": {
    "pycharm": {
     "name": "#%%\n"
    }
   },
   "outputs": [],
   "source": [
    "file = file.refresh()"
   ]
  },
  {
   "cell_type": "code",
   "execution_count": null,
   "id": "769129db",
   "metadata": {
    "pycharm": {
     "name": "#%%\n"
    }
   },
   "outputs": [],
   "source": [
    "for block in file.blocks:\n",
    "    for tag in block.tags:\n",
    "        print(f\"{tag.kind}/{tag.name} - [{block.text[tag.start_idx:tag.end_idx]} - {tag.value}\")"
   ]
  },
  {
   "cell_type": "code",
   "execution_count": null,
   "id": "91e020d9",
   "metadata": {
    "pycharm": {
     "name": "#%%\n"
    }
   },
   "outputs": [],
   "source": []
  }
 ],
 "metadata": {
  "kernelspec": {
   "display_name": "Python 3 (ipykernel)",
   "language": "python",
   "name": "python3"
  },
  "language_info": {
   "codemirror_mode": {
    "name": "ipython",
    "version": 3
   },
   "file_extension": ".py",
   "mimetype": "text/x-python",
   "name": "python",
   "nbconvert_exporter": "python",
   "pygments_lexer": "ipython3",
   "version": "3.9.6"
  }
 },
 "nbformat": 4,
 "nbformat_minor": 5
}
